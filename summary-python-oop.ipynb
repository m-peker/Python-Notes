{
 "cells": [
  {
   "cell_type": "markdown",
   "metadata": {},
   "source": [
    "<h1><font color=\"black\">PYTHON OOP: Class and Inheritance</font></h1>"
   ]
  },
  {
   "cell_type": "markdown",
   "metadata": {},
   "source": [
    "## Sınıflar"
   ]
  },
  {
   "cell_type": "code",
   "execution_count": 15,
   "metadata": {},
   "outputs": [
    {
     "name": "stdout",
     "output_type": "stream",
     "text": [
      "----------------------------\n",
      "[<__main__.Product object at 0x0000024E70CBA588>, <__main__.Product object at 0x0000024E70CBA2E8>, <__main__.Product object at 0x0000024E70CBA898>, <__main__.Product object at 0x0000024E70CBA828>]\n"
     ]
    }
   ],
   "source": [
    "# Çalışan isimli bir sınıf oluşturup; bu sınıftan 2 tane nesne türetelim.\n",
    "class Worker:\n",
    "    # metot\n",
    "    # değişkenler\n",
    "    pass\n",
    "\n",
    "# Nesne oluşturma\n",
    "worker1 = Worker()\n",
    "worker2 = Worker()\n",
    "\n",
    "print(\"----------------------------\")\n",
    "\n",
    "# Ürün isimli bir sınıf oluşturalım ve bu sınıftan 4 tane nesne türetip; ekrana bu nesnelerin bellekteki \n",
    "# konumlarını yazdıralım.\n",
    "class Product:\n",
    "    # metot\n",
    "    # değişkenler\n",
    "    pass\n",
    "\n",
    "p1 = Product() # Monster Notebook\n",
    "p2 = Product() # ASUS Notebook\n",
    "p3 = Product() # DELL Notebook\n",
    "p4 = Product() # Lenovo Notebook\n",
    "\n",
    "products = [p1,p2,p3,p4]\n",
    "\n",
    "print([p for p in products])"
   ]
  },
  {
   "cell_type": "markdown",
   "metadata": {},
   "source": [
    "#### Yapıcı Metotlar (Constructor): __init__ metodu"
   ]
  },
  {
   "cell_type": "markdown",
   "metadata": {},
   "source": [
    "Yapıcı (constructor) olarak ifade edilen ve sınıf ilk oluşturulduğunda yapılacak işlemlerin tanımlandığı  özel bir metottur. Sınıftan bir nesne oluşturulurken çağrılan ilk metottur."
   ]
  },
  {
   "cell_type": "code",
   "execution_count": 19,
   "metadata": {},
   "outputs": [
    {
     "name": "stdout",
     "output_type": "stream",
     "text": [
      "ASUS isimli product nesnesi oluşturuldu.\n",
      "Lenovo isimli product nesnesi oluşturuldu.\n",
      "ASUS X540UA 5000\n",
      "Lenovo IdePad_L3 8000\n"
     ]
    }
   ],
   "source": [
    "class Product:\n",
    "    def __init__(self, name, code, price):\n",
    "        self.name = name\n",
    "        self.code=code\n",
    "        self.price = price\n",
    "        print(f'{name} isimli product nesnesi oluşturuldu.')\n",
    "\n",
    "p1 = Product(\"ASUS\",\"X540UA\", 5000)\n",
    "p2 = Product(\"Lenovo\",\"IdePad_L3\", 8000)\n",
    "\n",
    "print(p1.name, p1.code, p1.price)\n",
    "print(p2.name, p2.code, p2.price)"
   ]
  },
  {
   "cell_type": "markdown",
   "metadata": {},
   "source": [
    "##### Uygulama 1"
   ]
  },
  {
   "cell_type": "code",
   "execution_count": 47,
   "metadata": {},
   "outputs": [
    {
     "name": "stdout",
     "output_type": "stream",
     "text": [
      "Digit amount of items to buy: 100\n",
      "cost for 100 Notebook_1 = 400000.0\n",
      "remaining stock: 900\n",
      "\n",
      "Digit amount of items to buy: 500\n",
      "cost for 500 Notebook_1 = 2000000.0\n",
      "remaining stock: 400\n",
      "\n",
      "Digit amount of items to buy: 50\n",
      "cost for 50 Notebook_1 = 225000.0\n",
      "remaining stock: 350\n",
      "\n",
      "Digit amount of items to buy: 5\n",
      "cost for 5 Notebook_1 = 25000.0\n",
      "remaining stock: 345\n",
      "\n",
      "Digit amount of items to buy: 340\n",
      "cost for 340 Notebook_1 = 1360000.0\n",
      "remaining stock: 5\n",
      "\n",
      "Digit amount of items to buy: 3\n",
      "cost for 3 Notebook_1 = 15000.0\n",
      "remaining stock: 2\n",
      "\n",
      "Digit amount of items to buy: 2\n",
      "cost for 2 Notebook_1 = 10000.0\n",
      "remaining stock: 0\n",
      "\n",
      "Digit amount of items to buy: 1\n",
      "cost for 1 Notebook_1 = 5000.0\n",
      "Notebook_1 product is sold out.\n",
      "remaining stock: 0\n",
      "\n"
     ]
    }
   ],
   "source": [
    "# Ürün isimli bir sınıfımız var.\n",
    "# Burada bir ürün satışı söz konusudur.\n",
    "# Her ürünün ismi, miktarı ve değeri vardır.\n",
    "# Sınıfta 2 metodumuz olacak. Bunlardan birisi alınacak ürün sayısına göre bir indirim uygulayacak.\n",
    "# Eğer alınan ürün miktarı 10'dan küçükse indirim yok, 10 ile 99 arasında ise %10'luk bir indirim, 99 ve üstündeyse %20 indirim uygulanacak.\n",
    "# Ürün satıldıktan sonra stok miktarı ekrana basılacaktır.\n",
    "# Alınmak istenen miktar, stoktaki miktardan fazla ise veya ürün stokta yoksa gerekli bilgilendirmeler yapılacaktır.\n",
    "# Satın alınacak miktar input ile dışarıdan alınacaktır.\n",
    "\n",
    "class Product:\n",
    "\n",
    "    def __init__(self, name, amount, price):\n",
    "        self.name = name\n",
    "        self.amount = amount\n",
    "        self.price = price\n",
    "        if self.amount<=0:\n",
    "            self.status=False\n",
    "        else:\n",
    "            self.status=True\n",
    "\n",
    "    def get_price(self, number_to_be_bought):\n",
    "        discount = 0\n",
    "        if number_to_be_bought < 10:\n",
    "            pass\n",
    "        elif 10 <= number_to_be_bought < 99:\n",
    "            discount = 10\n",
    "        else:\n",
    "            discount = 20\n",
    "        price = (100 - discount) / 100 * self.price\n",
    "        return price * number_to_be_bought\n",
    "\n",
    "    def make_purchase(self, quantity):\n",
    "        if self.amount>=quantity:\n",
    "            self.amount -= quantity\n",
    "        elif self.amount<=0:\n",
    "            print(f\"{self.name} product is sold out.\")\n",
    "            self.status=False\n",
    "        else:\n",
    "            print(\"There are no products in the amount you requested in our stock..\")\n",
    "            print(f\"There are {self.amount} {self.name} in our stock\")\n",
    "\n",
    "name, amount, price = 'Notebook_1', 1000, 5000\n",
    "\n",
    "Product1 = Product(name, amount, price)\n",
    "\n",
    "while True:\n",
    "    quantity = int(input('Digit amount of items to buy: '))\n",
    "    print(f'cost for {quantity} {Product1.name} = {Product1.get_price(quantity)}')\n",
    "    Product1.make_purchase(quantity)\n",
    "    print(f'remaining stock: {Product1.amount}\\n')\n",
    "\n",
    "    if Product1.status==False:\n",
    "        break"
   ]
  },
  {
   "cell_type": "markdown",
   "metadata": {},
   "source": [
    "#### Nesne Metotları (Instance Methods)"
   ]
  },
  {
   "cell_type": "code",
   "execution_count": 42,
   "metadata": {},
   "outputs": [
    {
     "name": "stdout",
     "output_type": "stream",
     "text": [
      "There are 100 ASUS products. The price of ASUS product is 5000 $.\n",
      "There are 200 Samsung products. The price of Samsung product is 4000 $.\n",
      "25000\n",
      "16000\n"
     ]
    }
   ],
   "source": [
    "# Instance Methods: Sınıftan türetilen nesnenin fonksiyonları olarak ifade edilebilir. \n",
    "    \n",
    "class Product:\n",
    "    def __init__(self,name,amount,price):\n",
    "        \n",
    "        # instance attributes\n",
    "        self.name = name\n",
    "        self.amount = amount\n",
    "        self.price = price\n",
    "\n",
    "    # instance methods\n",
    "    def intro(self):\n",
    "        return f\"There are {self.amount} {self.name} products. The price of {self.name} product is {self.price} $.\"\n",
    "    \n",
    "    def get_price(self,quantity):\n",
    "        return f\"{quantity*self.price}\"\n",
    "\n",
    "# Object, Instance\n",
    "p1 = Product(\"ASUS\",100,5000)\n",
    "p2 = Product(\"Samsung\",200,4000)\n",
    "\n",
    "# Get informations about Products\n",
    "print(p1.intro())\n",
    "print(p2.intro())\n",
    "\n",
    "# Calculate prices of Products according to given quantity\n",
    "print(p1.get_price(5))\n",
    "print(p2.get_price(4))"
   ]
  },
  {
   "cell_type": "markdown",
   "metadata": {},
   "source": [
    "#### Sınıf Değişkenleri (Class Attributes)"
   ]
  },
  {
   "cell_type": "code",
   "execution_count": 59,
   "metadata": {},
   "outputs": [
    {
     "name": "stdout",
     "output_type": "stream",
     "text": [
      "0\n",
      "3\n",
      "Ali Su has closed the session.\n",
      "2\n",
      "Metin Pak has closed the session.\n",
      "1\n"
     ]
    }
   ],
   "source": [
    "# Yukarıdaki örneklerde sınıf içerisinde tanımlanan tüm değişkenler nesneye ait değişkenlerdi. Yani sınıftan bir nesne türetildiğinde,\n",
    "# bu nesne sınıftaki tüm özellikleri alıyordu. Fakat bazen sınıfa özgü değişkenlere ihtiyaç duyarız. Bu uygulamada bunu\n",
    "# bir örnekle belirtiyoruz.\n",
    "# Bu örnekte kullanıcıların sitedeki aktif kullanıcı sayısını hesaplıyoruz. Sınıftan üretilen nesnelerin siteye giriş-çıkış\n",
    "# yapmasına göre aktif kullanıcı sayısını bulacağız. aktif kullanıcı sayısı nesnenin bir özelliği olmayıp; sınıfın bir\n",
    "# özelliğidir. Bu nedenle de class attributes olarak tanımlayacağız.\n",
    "\n",
    "class User:\n",
    "    \n",
    "    number_of_active_users = 0\n",
    "\n",
    "    def __init__(self,first_name,last_name):\n",
    "        self.first_name = first_name\n",
    "        self.last_name =last_name\n",
    "        User.number_of_active_users += 1\n",
    "\n",
    "    def logout(self):\n",
    "        User.number_of_active_users -= 1\n",
    "        return f\"{self.first_name} {self.last_name} has closed the session.\"\n",
    "\n",
    "print(User.number_of_active_users) #Başlangıçta aktif kullanıcı sayısı 0\n",
    "\n",
    "# 3 tane kullanıcı oluşturuyoruz. Bunlar aynı zamanda login oluyor.\n",
    "user_X = User(\"Ali\",\"Su\")\n",
    "user_Y = User(\"Metin\",\"Pak\")\n",
    "user_Z = User(\"Çınar\",\"Telli\")\n",
    "\n",
    "print(User.number_of_active_users)\n",
    "print(user_X.logout()) # Bir kullanıcı çıkış yaptı\n",
    "print(User.number_of_active_users)\n",
    "print(user_Y.logout()) # Bir kullanıcı çıkış yaptı\n",
    "print(User.number_of_active_users)"
   ]
  },
  {
   "cell_type": "markdown",
   "metadata": {},
   "source": [
    "#### Sınıf Metotları (Class Methods)"
   ]
  },
  {
   "cell_type": "code",
   "execution_count": null,
   "metadata": {},
   "outputs": [],
   "source": [
    "class User:\n",
    "    \n",
    "    active_users = 0\n",
    "\n",
    "    @classmethod\n",
    "    def display_active_users(cls):\n",
    "        return f\"{cls.active_users} tane aktif kullanıcı var.\"\n",
    "\n",
    "    @classmethod\n",
    "    def from_string(cls,data_str):\n",
    "        first,last,age = data_str.split(',')\n",
    "        return cls(first,last,age)\n",
    "\n",
    "    def __init__(self,first,last,age):\n",
    "        self.first = first\n",
    "        self.last = last\n",
    "        self.age = age\n",
    "        User.active_users += 1\n",
    "\n",
    "    def full_name(self):\n",
    "        return f\"{self.first} {self.last}\"\n",
    "\n",
    "    def logout(self):\n",
    "        User.active_users -= 1\n",
    "        return f\"{self.full_name()} uygulamadan çıkış yaptı.\"\n",
    "\n",
    "# print(User.display_active_users())\n",
    "# userA = User(\"Sadık\",\"Turan\",37)\n",
    "# userB = User(\"Sena\",\"Turan\",20)\n",
    "# userC = User(\"Sena\",\"Turan\",20)\n",
    "\n",
    "ali = User.from_string(\"Ali,Korkmaz,20\")\n",
    "print(ali.first)\n",
    "\n",
    "# {\"key\":\"value\"}\n",
    "# dict.fromkeys()"
   ]
  },
  {
   "cell_type": "code",
   "execution_count": 85,
   "metadata": {},
   "outputs": [
    {
     "name": "stdout",
     "output_type": "stream",
     "text": [
      "0001 student number has been added\n",
      "0002 student number has been added\n",
      "0003 student number has been added\n",
      "---------\n",
      "Number of Students: 3\n",
      "---------\n",
      "Abilities of the student 0001:\n",
      "['Computer', 'Football']\n",
      "---------\n",
      "Student List:\n",
      "0001\n",
      "0002\n",
      "0003\n"
     ]
    }
   ],
   "source": [
    "# Şimdiye kadar sınıf içerisinde tanımlanan metotlar nesnelere özgüydü.\n",
    "# Bazen sınıfa özgü metotlara ihtiyaç duyarız.\n",
    "# Örneğin bir Çalışan sınıfımız olsun. Ve çalışan sayısı ya da çalışan bilgileri gibi verileri bize sunacak bir metota\n",
    "# ihtiyacımız olsun. Bu durumda sınıf içerisinde tanımlayacağımız metotların sınıfa özgü olması doğru olacaktır.\n",
    "# Bu noktada Class methods kavramı devreye giriyor.\n",
    "# İki parametre ile gerekli metodu oluşturmamız mümkün. Bunlar @classmethod ve cls. Örnekte görelim.\n",
    "\n",
    "class Student():\n",
    "    students = []\n",
    "\n",
    "    def __init__(self, first_name, last_name, student_number):\n",
    "        self.first_name = first_name\n",
    "        self.last_name = last_name\n",
    "        self.student_number = student_number\n",
    "        self.abilities=[]\n",
    "        self.student_list()\n",
    "\n",
    "    @classmethod\n",
    "    def get_number_of_students(cls):\n",
    "        print(f\"Number of Students: {len(cls.students)}\")\n",
    "\n",
    "    def student_list(self):\n",
    "        self.students.append(self.student_number)\n",
    "        print('{} student number has been added'.format(self.student_number))\n",
    "\n",
    "    @classmethod\n",
    "    def display_students(cls):\n",
    "        print('Student List:')\n",
    "        for i in cls.students:\n",
    "            print(i)\n",
    "\n",
    "    def insert_abilities(self, ability):\n",
    "        self.abilities.append(ability)\n",
    "\n",
    "    def display_abilities(self):\n",
    "        print('Abilities of the student {}:'.format(self.student_number))\n",
    "        for ability in self.abilities:\n",
    "            print(ability)\n",
    "\n",
    "Student_1=Student(\"Hakan\",\"Son\",\"0001\")\n",
    "Student_2=Student(\"Ali\",\"İlk\",\"0002\")\n",
    "Student_3=Student(\"Mehmet Ali\",\"Ses\",\"0003\")\n",
    "\n",
    "print(\"---------\")\n",
    "\n",
    "Student.get_number_of_students() # Call class method\n",
    "\n",
    "print(\"---------\")\n",
    "\n",
    "Student_1.insert_abilities([\"Computer\",\"Football\"]) \n",
    "Student_1.display_abilities() # Call instance method\n",
    "\n",
    "print(\"---------\")\n",
    "\n",
    "Student.display_students() # Call class method"
   ]
  },
  {
   "cell_type": "markdown",
   "metadata": {},
   "source": [
    "## Kalıtım (Inheritance)"
   ]
  },
  {
   "cell_type": "code",
   "execution_count": 31,
   "metadata": {},
   "outputs": [
    {
     "name": "stdout",
     "output_type": "stream",
     "text": [
      "There are currently 0 enrolled students in the university information system.\n",
      "There are currently 0 enrolled academicians in the university information system.\n",
      "There are currently 0 active users in the university information system.\n",
      "There are currently 2 enrolled students in the university information system.\n",
      "There are currently 2 enrolled academicians in the university information system.\n",
      "There are currently 6 active users in the university information system.\n",
      "There are currently 4 active users in the university information system.\n",
      "Ayşe Al uploaded his/her homework for the Matematik lesson.\n",
      "Mehmet Ünlü entered the students' grades for the Tarih lesson into the system.\n",
      "False\n",
      "True\n",
      "False\n",
      "True\n",
      "True\n"
     ]
    }
   ],
   "source": [
    "# Üniversite bilgi sistemini düşünelim. Bu sistemde öğrenci ve akademik personeller bulunmaktadır. Bunların ikisi de \n",
    "# kullanıcıdır ve ortak özellikleri vardır. Ortak özellikler dışında ayırt edici özellikler de bulunur. \n",
    "# Örneğin öğrenci sınava girer; akademik personel ders verir. Bu durumda ortak özellikler olduğu için temel bir kullanıcı \n",
    "# sınıfı oluşturup; öğrenci ve akademisyenleri bu temel sınıftan türetebiliriz. Üniversite bilgi sisteminde öğrenci ve \n",
    "# akademisyen dışında çalışanların da olduğu unutulmamalıdır.\n",
    "\n",
    "class User:\n",
    "    number_of_active_users = 0 # Burada bir sınıf değişkeni tanımlıyoruz.\n",
    "\n",
    "    def __init__(self,first_name,last_name, itendity_number):\n",
    "        self.first_name = first_name\n",
    "        self.last_name = last_name\n",
    "        self.itendity_number=itendity_number\n",
    "        User.number_of_active_users += 1\n",
    "        \n",
    "    def quit(self):\n",
    "        User.number_of_active_users -= 1\n",
    "        return f\"{self.first_name} {self.last_name} has logged out of the system.\"\n",
    "        \n",
    "    def get_information(self):\n",
    "        return f\"{self.first_name} {self.last_name}\"\n",
    "    \n",
    "    @classmethod   # Burada bir sınıf metodu tanımlıyoruz. Sistemde anlık aktif kullanıcı sayısını verir.\n",
    "    def display_number_of_active_users(cls):\n",
    "        return f\"There are currently {cls.number_of_active_users} active users in the university information system.\"\n",
    "\n",
    "\n",
    "class Student(User):\n",
    "    number_of_active_students = 0\n",
    "    \n",
    "    @classmethod\n",
    "    def display_number_of_enrolled_students(cls): # Sistemde kayıtlı öğrenci sayısını verir.\n",
    "        return f\"There are currently {cls.number_of_active_students} enrolled students in the university information system.\"\n",
    "\n",
    "    def __init__(self,first_name,last_name,itendity_number, lesson):\n",
    "        super().__init__(first_name,last_name,itendity_number)\n",
    "        self.lesson=lesson\n",
    "        Student.number_of_active_students += 1\n",
    "\n",
    "    def send_homework(self):\n",
    "        return f\"{self.get_information()} uploaded his/her homework for the {self.lesson} lesson.\"\n",
    "\n",
    "class Academician(User):\n",
    "    number_of_active_academicians = 0\n",
    "    \n",
    "    @classmethod \n",
    "    def display_number_of_enrolled_academicians(cls): # Sistemde kayıtlı akademisyen sayısını verir.\n",
    "        return f\"There are currently {cls.number_of_active_academicians} enrolled academicians in the university information system.\"\n",
    "\n",
    "    def __init__(self,first_name,last_name,itendity_number,lesson):\n",
    "        super().__init__(first_name,last_name,itendity_number)\n",
    "        self.lesson=lesson\n",
    "        Academician.number_of_active_academicians += 1\n",
    "\n",
    "    def note_entry(self):\n",
    "        return f\"{self.get_information()} entered the students' grades for the {self.lesson} lesson into the system.\"\n",
    "\n",
    "\n",
    "print(Student.display_number_of_enrolled_students()) # Aktif öğrenci sayısı\n",
    "print(Academician.display_number_of_enrolled_academicians()) # Aktif akademisyen sayısı\n",
    "print(User.display_number_of_active_users()) # Aktif kullanıcı sayısı\n",
    "\n",
    "user_1=User(\"Ali\",\"Su\",\"11111\")\n",
    "user_2=User(\"Ali\",\"Su\",\"22222\")\n",
    "\n",
    "student_1=Student(\"Fatma\",\"Ak\",\"3333\",\"Fizik\")\n",
    "student_2=Student(\"Ayşe\",\"Al\",\"4444\",\"Matematik\")\n",
    "\n",
    "academician_1=Academician(\"Mehmet\",\"Ünlü\",\"5555\",\"Tarih\")\n",
    "academician_2=Academician(\"Fevzi\",\"Çalı\",\"6666\",\"Matematik\")\n",
    "\n",
    "\n",
    "print(Student.display_number_of_enrolled_students()) # Aktif öğrenci sayısı\n",
    "print(Academician.display_number_of_enrolled_academicians()) # Aktif akademisyen sayısı\n",
    "print(User.display_number_of_active_users()) # Aktif kullanıcı sayısı\n",
    "\n",
    "student_1.quit()\n",
    "academician_2.quit()\n",
    "\n",
    "print(User.display_number_of_active_users()) # Aktif kullanıcı sayısı\n",
    "\n",
    "user_2.get_information()\n",
    "print(student_2.send_homework())\n",
    "print(academician_1.note_entry())\n",
    "\n",
    "# Not: isinstance komutu objenin türü hakkında bilgi verir. Örneğin user_1 nesnesi eğer Student sınıfına aitse True döner.\n",
    "\n",
    "print(isinstance(user_1,Student))\n",
    "print(isinstance(user_1,User))\n",
    "print(isinstance(academician_1,Student))\n",
    "print(isinstance(academician_1,Academician))\n",
    "print(isinstance(academician_1,User))"
   ]
  },
  {
   "cell_type": "markdown",
   "metadata": {},
   "source": [
    "## Kapsülleme (Encapsulation)"
   ]
  },
  {
   "cell_type": "markdown",
   "metadata": {},
   "source": [
    "Bu prensibe göre bir sınıf içindeki veriyi saklamalı ve dış dünya ile etkileşimini sınırlamalıdır. OOP prensiplerine göre aşağıdaki davranış kötü bir kod örneğidir."
   ]
  },
  {
   "cell_type": "code",
   "execution_count": 7,
   "metadata": {},
   "outputs": [
    {
     "name": "stdout",
     "output_type": "stream",
     "text": [
      "46\n"
     ]
    }
   ],
   "source": [
    "class ex2(object):\n",
    "    def __init__(self):\n",
    "        self.version = 45\n",
    "\n",
    "s = ex2()\n",
    "s.version = 46 # veriyle direk iletisim\n",
    "print(s.version) # veriyle direk iletisim"
   ]
  },
  {
   "cell_type": "markdown",
   "metadata": {},
   "source": [
    "Bu problemi çözmek için Getter/Setter fonksiyon dediğimiz yapılar kullanılır. Yukarıdaki kodu Getter/Setter kullanarak düzenleyelim."
   ]
  },
  {
   "cell_type": "code",
   "execution_count": 15,
   "metadata": {},
   "outputs": [
    {
     "name": "stdout",
     "output_type": "stream",
     "text": [
      "45\n",
      "46\n"
     ]
    }
   ],
   "source": [
    "# Getters and setters\n",
    "class ex2(object):\n",
    "   def __init__(self):\n",
    "      self._version = 45\n",
    "\n",
    "   def getVersion(self):\n",
    "      print(self._version)\n",
    "\n",
    "   def setVersion(self, version):\n",
    "      self._version = version\n",
    "\n",
    "obj = ex2()\n",
    "obj.getVersion()\n",
    "obj.setVersion(46)\n",
    "obj.getVersion()"
   ]
  }
 ],
 "metadata": {
  "kernelspec": {
   "display_name": "Python 3",
   "language": "python",
   "name": "python3"
  },
  "language_info": {
   "codemirror_mode": {
    "name": "ipython",
    "version": 3
   },
   "file_extension": ".py",
   "mimetype": "text/x-python",
   "name": "python",
   "nbconvert_exporter": "python",
   "pygments_lexer": "ipython3",
   "version": "3.6.10"
  }
 },
 "nbformat": 4,
 "nbformat_minor": 4
}
