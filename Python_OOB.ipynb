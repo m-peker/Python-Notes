{
 "cells": [
  {
   "cell_type": "markdown",
   "metadata": {},
   "source": [
    "# 1. Classes/Objects"
   ]
  },
  {
   "cell_type": "code",
   "execution_count": 1,
   "metadata": {},
   "outputs": [
    {
     "name": "stdout",
     "output_type": "stream",
     "text": [
      "------------------------------------------------------------\n",
      "15\n",
      "------------------------------------------------------------\n",
      "Ali\n",
      "45\n",
      "------------------------------------------------------------\n",
      "Hello my name is Ali\n",
      "------------------------------------------------------------\n",
      "40\n",
      "------------------------------------------------------------\n",
      "------------------------------------------------------------\n",
      "dog\n",
      "None\n"
     ]
    }
   ],
   "source": [
    "# Create a Class\n",
    "class MyFirstClass:\n",
    "  x = 15\n",
    "print(\"------------------------------------------------------------\")\n",
    "# Create Object: Create an object named o1, and print the value of x:\n",
    "o1 = MyFirstClass()\n",
    "print(o1.x)\n",
    "print(\"------------------------------------------------------------\")\n",
    "\n",
    "# The __init__() Function: The constructor method is used to initialize data. \n",
    "  # It is run as soon as an object of a class is instantiated. \n",
    "  # Also known as the __init__ method, it will be the first definition of a class and looks like this:\n",
    "  # Create a class named Person, use the __init__() function to assign values for name and age:\n",
    "  # The self parameter is a reference to the current instance of the class, and is used to access variables that belong to the class.\n",
    "class Person:\n",
    "  def __init__(self, name, age):\n",
    "    self.name = name\n",
    "    self.age = age\n",
    "\n",
    "p1 = Person(\"Ali\", 45)\n",
    "\n",
    "print(p1.name)\n",
    "print(p1.age)\n",
    "print(\"------------------------------------------------------------\")\n",
    "\n",
    "# Object Methods: Objects can also contain methods. Methods in objects are functions that belong to the object.\n",
    "class Person:\n",
    "  def __init__(self, name, age):\n",
    "    self.name = name\n",
    "    self.age = age\n",
    "\n",
    "  def myfunction(self):\n",
    "    print(\"Hello my name is \" + self.name)\n",
    "\n",
    "p1 = Person(\"Ali\", 45)\n",
    "p1.myfunction()\n",
    "print(\"------------------------------------------------------------\")\n",
    "\n",
    "   # Modify Object Properties\n",
    "p1.age = 40\n",
    "print(p1.age)\n",
    "print(\"------------------------------------------------------------\")\n",
    "\n",
    "   # Delete Object Properties\n",
    "del p1.age\n",
    "print(\"------------------------------------------------------------\")\n",
    "\n",
    "# Example 1\n",
    "class Animal(object):\n",
    "    \n",
    "    def __init__(self, a, b): # ( name, age) = (\"dog\", 2) = (a, b)\n",
    "        self.name = a \n",
    "        self.age = b\n",
    "    \n",
    "    def getAge(self):\n",
    "        print(\"\")\n",
    "        return self.age\n",
    "    \n",
    "    def getName(self):\n",
    "        print(self.name)\n",
    "        \n",
    "a1 = Animal(\"dog\", 2)\n",
    "a2 = Animal(\"cat\",4)\n",
    "a3 = Animal(\"bird\", 6)\n",
    "\n",
    "print(a1.getName())"
   ]
  },
  {
   "cell_type": "code",
   "execution_count": 4,
   "metadata": {},
   "outputs": [
    {
     "name": "stdout",
     "output_type": "stream",
     "text": [
      "Please choose add(1), multiply(2), div(3), subtraction_result(4)\n",
      "select 1 or 2 or 3 or 4:  1\n",
      "First value: 45\n",
      "Second value: 65\n",
      "--\n",
      "Add: 110\n"
     ]
    }
   ],
   "source": [
    "# Example: Calculator project\n",
    "\n",
    "class Calculator(object):\n",
    "    \"calculator\"\n",
    "    # init method\n",
    "    def __init__(self, a, b):\n",
    "        \"initialize values\"\n",
    "        \n",
    "        # attribute\n",
    "        self.value1 = a\n",
    "        self.value2 = b\n",
    "    \n",
    "    def add(self):\n",
    "        \"addition a+b = result -> return result\"\n",
    "        return self.value1 + self.value2\n",
    "         \n",
    "    def multiply(self):\n",
    "        \"multiplication a*b = result -> return result\"\n",
    "        return self.value1 * self.value2\n",
    "    \n",
    "    def division(self):\n",
    "        \"division a/b = result -> return result\"\n",
    "        return self.value1 / self.value2\n",
    "    \n",
    "    def subtraction(self):\n",
    "        \"subtraction a-b = result -> return result\"\n",
    "        return self.value1 - self.value2\n",
    "    \n",
    "print(\"Please choose add(1), multiply(2), div(3), subtraction_result(4)\")\n",
    "selection = input(\"select 1 or 2 or 3 or 4:  \")\n",
    "\n",
    "n1 = int(input(\"First value: \"))\n",
    "n2 = int(input(\"Second value: \"))\n",
    "print(\"--\")\n",
    "calc1 = Calculator(n1,n2)\n",
    "if selection == \"1\":\n",
    "    add_result = calc1.add()\n",
    "    print(\"Add: {}\".format(add_result))\n",
    "elif selection == \"2\": # else if = elif\n",
    "    multiply_result = calc1.multiply()\n",
    "    print(\"Multiply: {}\".format( multiply_result))\n",
    "elif selection == \"3\":\n",
    "    div_result = calc1.division()\n",
    "    print(\"Div: {}\".format(div_result))\n",
    "elif selection == \"4\":\n",
    "    subtraction_result = calc1.subtraction()\n",
    "    print(\"Subtraction: {}\".format(subtraction_result))\n",
    "else: \n",
    "    print(\"Error there is no proper selection\")"
   ]
  },
  {
   "cell_type": "markdown",
   "metadata": {},
   "source": [
    "# 2. Encapsulation"
   ]
  },
  {
   "cell_type": "code",
   "execution_count": 5,
   "metadata": {},
   "outputs": [
    {
     "name": "stdout",
     "output_type": "stream",
     "text": [
      "255\n",
      "124\n"
     ]
    },
    {
     "ename": "AttributeError",
     "evalue": "'Robot' object has no attribute '__c'",
     "output_type": "error",
     "traceback": [
      "\u001b[1;31m---------------------------------------------------------------------------\u001b[0m",
      "\u001b[1;31mAttributeError\u001b[0m                            Traceback (most recent call last)",
      "\u001b[1;32m<ipython-input-5-6dd80d334324>\u001b[0m in \u001b[0;36m<module>\u001b[1;34m\u001b[0m\n\u001b[0;32m     19\u001b[0m \u001b[0mprint\u001b[0m\u001b[1;33m(\u001b[0m\u001b[0mobj\u001b[0m\u001b[1;33m.\u001b[0m\u001b[0ma\u001b[0m\u001b[1;33m)\u001b[0m\u001b[1;33m\u001b[0m\u001b[1;33m\u001b[0m\u001b[0m\n\u001b[0;32m     20\u001b[0m \u001b[0mprint\u001b[0m\u001b[1;33m(\u001b[0m\u001b[0mobj\u001b[0m\u001b[1;33m.\u001b[0m\u001b[0m_b\u001b[0m\u001b[1;33m)\u001b[0m\u001b[1;33m\u001b[0m\u001b[1;33m\u001b[0m\u001b[0m\n\u001b[1;32m---> 21\u001b[1;33m \u001b[0mprint\u001b[0m\u001b[1;33m(\u001b[0m\u001b[0mobj\u001b[0m\u001b[1;33m.\u001b[0m\u001b[0m__c\u001b[0m\u001b[1;33m)\u001b[0m\u001b[1;33m\u001b[0m\u001b[1;33m\u001b[0m\u001b[0m\n\u001b[0m\u001b[0;32m     22\u001b[0m \u001b[1;33m\u001b[0m\u001b[0m\n",
      "\u001b[1;31mAttributeError\u001b[0m: 'Robot' object has no attribute '__c'"
     ]
    }
   ],
   "source": [
    "'''An objects variables should not always be directly accessible.\n",
    "To prevent accidental change, an objects variables can sometimes only be changed with an objects methods. \n",
    "Those type of variables are private variables. The methods can ensure the correct values are set.\n",
    "If an incorrect value is set, the method can return an error'''\n",
    "\n",
    "# Encapsulation example\n",
    "\n",
    "'''Python does not have the private keyword, unlike some other object oriented languages, \n",
    "but encapsulation can be done. Instead, it relies on the convention: a class variable that should not directly be \n",
    "accessed should be prefixed with an underscore.'''\n",
    "\n",
    "class ex1(object):\n",
    "   def __init__(self):\n",
    "      self.a = 255\n",
    "      self._b = 124\n",
    "      self.__c = 136\n",
    "\n",
    "obj = ex1()\n",
    "print(obj.a)\n",
    "print(obj._b)\n",
    "print(obj.__c)"
   ]
  },
  {
   "cell_type": "code",
   "execution_count": 8,
   "metadata": {},
   "outputs": [
    {
     "name": "stdout",
     "output_type": "stream",
     "text": [
      "45\n",
      "23\n"
     ]
    },
    {
     "ename": "AttributeError",
     "evalue": "'ex2' object has no attribute '__version'",
     "output_type": "error",
     "traceback": [
      "\u001b[1;31m---------------------------------------------------------------------------\u001b[0m",
      "\u001b[1;31mAttributeError\u001b[0m                            Traceback (most recent call last)",
      "\u001b[1;32m<ipython-input-8-35a5609e0e7f>\u001b[0m in \u001b[0;36m<module>\u001b[1;34m\u001b[0m\n\u001b[0;32m     19\u001b[0m \u001b[0mobj\u001b[0m\u001b[1;33m.\u001b[0m\u001b[0msetVersion\u001b[0m\u001b[1;33m(\u001b[0m\u001b[1;36m23\u001b[0m\u001b[1;33m)\u001b[0m\u001b[1;33m\u001b[0m\u001b[1;33m\u001b[0m\u001b[0m\n\u001b[0;32m     20\u001b[0m \u001b[0mobj\u001b[0m\u001b[1;33m.\u001b[0m\u001b[0mgetVersion\u001b[0m\u001b[1;33m(\u001b[0m\u001b[1;33m)\u001b[0m\u001b[1;33m\u001b[0m\u001b[1;33m\u001b[0m\u001b[0m\n\u001b[1;32m---> 21\u001b[1;33m \u001b[0mprint\u001b[0m\u001b[1;33m(\u001b[0m\u001b[0mobj\u001b[0m\u001b[1;33m.\u001b[0m\u001b[0m__version\u001b[0m\u001b[1;33m)\u001b[0m\u001b[1;33m\u001b[0m\u001b[1;33m\u001b[0m\u001b[0m\n\u001b[0m",
      "\u001b[1;31mAttributeError\u001b[0m: 'ex2' object has no attribute '__version'"
     ]
    }
   ],
   "source": [
    "'''A single underscore: Private variable, it should not be accessed directly. \n",
    "But nothing stops you from doing that (except convention). A double underscore: Private variable, harder to access \n",
    "but still possible. Both are still accessible: Python has private variables by convention.'''\n",
    "\n",
    "# Getters and setters\n",
    "'''Private variables are intended to be changed using getter and setter methods. These provide indirect access to them:'''\n",
    "class ex2(object):\n",
    "   def __init__(self):\n",
    "      self.__version = 45\n",
    "\n",
    "   def getVersion(self):\n",
    "      print(self.__version)\n",
    "\n",
    "   def setVersion(self, version):\n",
    "      self.__version = version\n",
    "\n",
    "obj = ex2()\n",
    "obj.getVersion()\n",
    "obj.setVersion(23)\n",
    "obj.getVersion()\n",
    "print(obj.__version)"
   ]
  },
  {
   "cell_type": "markdown",
   "metadata": {},
   "source": [
    "# 3. Inheritance"
   ]
  },
  {
   "cell_type": "code",
   "execution_count": 10,
   "metadata": {},
   "outputs": [
    {
     "name": "stdout",
     "output_type": "stream",
     "text": [
      "A\n",
      "B\n"
     ]
    }
   ],
   "source": [
    "'''Inheritance is one of the key concepts of object orientated programming (OOP). \n",
    "A class can inherit the methods and variables from another class. This principle helps us to avoid duplicate code. \n",
    "In turn, a created object has methods and variables from both classes.\n",
    "'''\n",
    "# Inheritance example\n",
    "'''We start by defining a class A which has a method A.'''\n",
    "class A:\n",
    "    def A(self):\n",
    "        print('A')\n",
    "'''Then we create class B and let it inherit from class A.'''\n",
    "class B(A):\n",
    "    def B(self):\n",
    "        print('B')\n",
    "'''If you create an object from class B, it has both the methods defined in class A and class B.\n",
    "\n",
    "Full inheritance code:'''\n",
    "class A:\n",
    "    def A(self):\n",
    "        print('A')\n",
    "\n",
    "class B(A):\n",
    "    def B(self):\n",
    "        print('B')\n",
    "\n",
    "o = B()\n",
    "o.A()\n",
    "o.B()"
   ]
  },
  {
   "cell_type": "code",
   "execution_count": 16,
   "metadata": {},
   "outputs": [
    {
     "name": "stdout",
     "output_type": "stream",
     "text": [
      "animal is created\n",
      "monkey is created\n",
      "monkey\n",
      "animal walk\n",
      "monkey can climb\n",
      "----\n",
      "animal is created\n",
      "bird is created\n",
      "animal walk\n",
      "fly\n"
     ]
    }
   ],
   "source": [
    "# Example: Inheritance\n",
    "\n",
    "# parent\n",
    "class Animal:\n",
    "    def __init__(self):\n",
    "        print(\"animal is created\")\n",
    "    \n",
    "    def toString(self):\n",
    "        print(\"animal\")\n",
    "        \n",
    "    def walk(self):\n",
    "        print(\"animal walk\")\n",
    "    \n",
    "# child\n",
    "class Monkey(Animal):\n",
    "    def __init__(self):\n",
    "        super().__init__() # use init of parent(animal) class\n",
    "        print(\"monkey is created\")\n",
    "    \n",
    "    def toString(self):\n",
    "        print(\"monkey\")\n",
    "        \n",
    "    def climb(self):\n",
    "        print(\"monkey can climb\")\n",
    "\n",
    "class Bird(Animal):\n",
    "    def __init__(self):\n",
    "        super().__init__()\n",
    "        print(\"bird is created\")\n",
    "    \n",
    "    def fly(self):\n",
    "        print(\"fly\")        \n",
    "#\n",
    "m1 = Monkey()\n",
    "m1.toString()\n",
    "m1.walk()\n",
    "m1.climb()\n",
    "print(\"----\")\n",
    "b1 = Bird()\n",
    "b1.walk()\n",
    "# b1.climb()\n",
    "b1.fly()  "
   ]
  },
  {
   "cell_type": "markdown",
   "metadata": {},
   "source": [
    "# 4. Abstract Classes        "
   ]
  },
  {
   "cell_type": "code",
   "execution_count": 23,
   "metadata": {},
   "outputs": [
    {
     "name": "stdout",
     "output_type": "stream",
     "text": [
      "bird\n",
      "Run\n"
     ]
    }
   ],
   "source": [
    "'''An abstract class can be considered as a blueprint for other classes, \n",
    "allows you to create a set of methods that must be created within any child classes \n",
    "built from your abstract class. A class which contains one or abstract methods is called \n",
    "an abstract class. An abstract method is a method that has declaration but not has any implementation. \n",
    "Abstract classes are not able to instantiated and it needs subclasses to provide implementations for \n",
    "those abstract methods which are defined in abstract classes. While we are designing large functional \n",
    "units we use an abstract class. When we want to provide a common implemented functionality for all implementations \n",
    "of a component, we use an abstract class. Abstract classes allow partially to implement classes when \n",
    "it completely implements all methods in a class, then it is called interface.'''\n",
    "\n",
    "'''How Abstract Base classes work :\n",
    "In python by default, it is not able to provide abstract classes, but python comes \n",
    "up with a module which provides the base for defining Abstract Base classes(ABC) and \n",
    "that module name is ABC. ABC works by marking methods of the base class as abstract and then \n",
    "registering concrete classes as implementations of the abstract base. \n",
    "A method becomes an abstract by decorated it with a keyword @abstractmethod. For Example –'''\n",
    "\n",
    "# Example 1: \n",
    "from abc import ABC, abstractmethod\n",
    "\n",
    "class Animal(ABC): # super class\n",
    "    \n",
    "    @abstractmethod\n",
    "    def walk(self): pass\n",
    "    \n",
    "    def run(self): print(\"Run\")\n",
    "\n",
    "class Bird(Animal): # sub class\n",
    "    \n",
    "    def __init__(self):\n",
    "        print(\"bird\")\n",
    "        \n",
    "    def walk(self): \n",
    "        print(\"walk\")\n",
    "\n",
    "\n",
    "b1 = Bird()\n",
    "b1.run()"
   ]
  },
  {
   "cell_type": "code",
   "execution_count": 21,
   "metadata": {},
   "outputs": [
    {
     "name": "stdout",
     "output_type": "stream",
     "text": [
      "I have 3 sides\n",
      "I have 4 sides\n",
      "I have 5 sides\n",
      "I have 6 sides\n"
     ]
    }
   ],
   "source": [
    "# Example 2\n",
    "\n",
    "# Python program showing \n",
    "# abstract base class work \n",
    "  \n",
    "from abc import ABC, abstractmethod \n",
    "  \n",
    "class Polygon(ABC): \n",
    "  \n",
    "    @abstractmethod\n",
    "    def noofsides(self): pass\n",
    "  \n",
    "class Triangle(Polygon): \n",
    "  \n",
    "    # overriding abstract method \n",
    "    def noofsides(self): \n",
    "        print(\"I have 3 sides\") \n",
    "  \n",
    "class Pentagon(Polygon): \n",
    "  \n",
    "    # overriding abstract method \n",
    "    def noofsides(self): \n",
    "        print(\"I have 5 sides\") \n",
    "  \n",
    "class Hexagon(Polygon): \n",
    "  \n",
    "    # overriding abstract method \n",
    "    def noofsides(self): \n",
    "        print(\"I have 6 sides\") \n",
    "  \n",
    "class Quadrilateral(Polygon): \n",
    "  \n",
    "    # overriding abstract method \n",
    "    def noofsides(self): \n",
    "        print(\"I have 4 sides\") \n",
    "  \n",
    "# Driver code \n",
    "R = Triangle() \n",
    "R.noofsides() \n",
    "  \n",
    "K = Quadrilateral() \n",
    "K.noofsides() \n",
    "  \n",
    "R = Pentagon() \n",
    "R.noofsides() \n",
    "  \n",
    "K = Hexagon() \n",
    "K.noofsides() "
   ]
  },
  {
   "cell_type": "markdown",
   "metadata": {},
   "source": [
    "# 5. Overriding"
   ]
  },
  {
   "cell_type": "code",
   "execution_count": 27,
   "metadata": {},
   "outputs": [
    {
     "name": "stdout",
     "output_type": "stream",
     "text": [
      "Hello world\n",
      "------------------------------------------------------------\n",
      "animal\n",
      "monkey\n"
     ]
    }
   ],
   "source": [
    "'''Class methods can be overridden.'''\n",
    "\n",
    "# Example 1:\n",
    "'''\n",
    "Instance r is created using the class HelloRobot, that inherits from parent class Robot.\n",
    "The HelloRobot class inherits the method action from its parent class, but its overridden in the class itself.\n",
    "'''\n",
    "class Robot:\n",
    "    def action(self):\n",
    "        print('Robot action')\n",
    "\n",
    "class HelloRobot(Robot):\n",
    "    def action(self):\n",
    "        print('Hello world')\n",
    "\n",
    "r = HelloRobot()\n",
    "r.action()\n",
    "print(\"------------------------------------------------------------\")\n",
    "\n",
    "# Example 2\n",
    "class Animal: # parent\n",
    "    \n",
    "    def toString(self):\n",
    "        print(\"animal\")\n",
    "        \n",
    "class Monkey(Animal):\n",
    "    \n",
    "    def toString(self):\n",
    "        print(\"monkey\")\n",
    "        \n",
    "a1 = Animal()\n",
    "a1.toString()\n",
    "\n",
    "m1 = Monkey()\n",
    "m1.toString() # monkey calls overriding method"
   ]
  },
  {
   "cell_type": "markdown",
   "metadata": {},
   "source": [
    "# 6. Polymorphism"
   ]
  },
  {
   "cell_type": "code",
   "execution_count": null,
   "metadata": {},
   "outputs": [],
   "source": [
    "'''In a programming language that exhibits polymorphism, objects of classes belonging to the same hierarchical\n",
    "tree (inherited from a common base class) may possess functions bearing the same name, but each having different \n",
    "behaviors. \n",
    "As an example, assume there is a base class named Animals from which the subclasses Horse, \n",
    "Fish and Bird are derived. Also assume that the Animals class has a function named Move, which is \n",
    "inherited by all subclasses mentioned. With polymorphism, each subclass may have its own way of \n",
    "implementing the function. So, for example, when the Move function is called in an object of the Horse class, \n",
    "the function might respond by displaying trotting on the screen. On the other hand, when the same function is\n",
    "called in an object of the Fish class, swimming might be displayed on the screen. In the case of a Bird object, \n",
    "it may be flying'''"
   ]
  },
  {
   "cell_type": "code",
   "execution_count": 33,
   "metadata": {},
   "outputs": [
    {
     "name": "stdout",
     "output_type": "stream",
     "text": [
      "CompEng:  120.0\n",
      "EEE:  130.0\n"
     ]
    }
   ],
   "source": [
    "class Employee:\n",
    "    \n",
    "    def raisee(self):\n",
    "        raise_rate = 0.1\n",
    "        result = 100 + 100 * raise_rate \n",
    "        print(\"Employee: \",result)\n",
    "\n",
    "class CompEng(Employee):\n",
    "    \n",
    "    def raisee(self):\n",
    "        raise_rate = 0.2\n",
    "        result = 100 + 100 * raise_rate \n",
    "        print(\"CompEng: \",result)\n",
    "    \n",
    "class EEE(Employee):\n",
    "    \n",
    "    def raisee(self):\n",
    "        raise_rate = 0.3\n",
    "        result = 100 + 100 * raise_rate \n",
    "        print(\"EEE: \",result)\n",
    "\n",
    "e1 = Employee()\n",
    "ce = CompEng()\n",
    "eee = EEE()\n",
    "\n",
    "employee_list = [ce, eee]\n",
    "\n",
    "for employee in employee_list:\n",
    "    employee.raisee()"
   ]
  },
  {
   "cell_type": "code",
   "execution_count": 35,
   "metadata": {},
   "outputs": [
    {
     "name": "stdout",
     "output_type": "stream",
     "text": [
      "JaguarXE: Available colors are: Red, Blue\n",
      "Ferrari488: Available colors are: Red, Blue, Black, White\n"
     ]
    }
   ],
   "source": [
    "class Car:\n",
    "    def __init__(self, name):    # Constructor of the class\n",
    "        self.name = name\n",
    "\n",
    "    def color(self):              # Abstract method\n",
    "        raise NotImplementedError(\"Subclass must implement abstract method\")\n",
    "\n",
    "class Jaguar(Car):\n",
    "    def color(self):\n",
    "        return 'Available colors are: Red, Blue'\n",
    "\n",
    "class Ferrari(Car):\n",
    "    def color(self):\n",
    "        return 'Available colors are: Red, Blue, Black, White'\n",
    "\n",
    "cars = [Jaguar('JaguarXE'),\n",
    "           Ferrari('Ferrari488')]\n",
    "\n",
    "for car in cars:\n",
    "    print(car.name + ': ' + car.color())"
   ]
  },
  {
   "cell_type": "markdown",
   "metadata": {},
   "source": [
    "# 7. Final Project"
   ]
  },
  {
   "cell_type": "code",
   "execution_count": 36,
   "metadata": {},
   "outputs": [
    {
     "name": "stdout",
     "output_type": "stream",
     "text": [
      "Circle area:  314.0\n",
      "Circle perimeter:  62.800000000000004\n",
      "Circle radius:  10\n",
      "Square area:  100\n",
      "Square perimeter:  40\n",
      "Square edge:  10\n"
     ]
    }
   ],
   "source": [
    "\"\"\" \n",
    "Scope of Example\n",
    "OOP: Object Oriented Programming\n",
    "    - class/object\n",
    "    - attributes/methods\n",
    "    - encapsulation/ abstraction\n",
    "    - inheritance\n",
    "    - overriding/polymorphism\n",
    "\"\"\"\n",
    "from abc import ABC, abstractmethod\n",
    "# inheritance\n",
    "class Shape(ABC):\n",
    "    \"\"\"\n",
    "        Shape = super class / abstract class\n",
    "        \n",
    "    \"\"\"\n",
    "    # abstract method\n",
    "    @abstractmethod\n",
    "    def area(self): pass\n",
    "    @abstractmethod\n",
    "    def perimeter(self): pass\n",
    "\n",
    "    # overriding and polymorphism\n",
    "    def toString(self): pass\n",
    "    \n",
    "# child\n",
    "class Square(Shape):\n",
    "    \"sub class\"\n",
    "    def __init__(self, edge):\n",
    "        self.__edge = edge # encapsulation private attribute\n",
    "        \n",
    "    def area(self):\n",
    "        result = self.__edge**2\n",
    "        print(\"Square area: \",result)\n",
    "        \n",
    "    def perimeter(self): \n",
    "        result = self.__edge*4\n",
    "        print(\"Square perimeter: \",result)\n",
    "\n",
    "    # override and polymorphism\n",
    "    def toString(self):\n",
    "        print(\"Square edge: \",self.__edge)\n",
    "\n",
    "# child\n",
    "class Circle(Shape):\n",
    "    \"circle class\"\n",
    "    \n",
    "    # constant variable\n",
    "    PI = 3.14\n",
    "    \n",
    "    def __init__(self, radius):\n",
    "        self.__radius = radius\n",
    "    \n",
    "    def area(self): \n",
    "        \"\"\n",
    "        result = self.PI*self.__radius**2 # pi*r^2\n",
    "        print(\"Circle area: \",result)\n",
    "\n",
    "    def perimeter(self): \n",
    "        result = 2*self.PI*self.__radius  # 2*pi*r\n",
    "        print(\"Circle perimeter: \",result)\n",
    "        \n",
    "    # override and polymorphism\n",
    "    def toString(self):\n",
    "        print(\"Circle radius: \",self.__radius)\n",
    "    \n",
    "        \n",
    "c = Circle(10)\n",
    "c.area()\n",
    "c.perimeter()\n",
    "c.toString()\n",
    "\n",
    "        \n",
    "s = Square(10)\n",
    "s.area()\n",
    "s.perimeter()\n",
    "s.toString()"
   ]
  },
  {
   "cell_type": "code",
   "execution_count": null,
   "metadata": {},
   "outputs": [],
   "source": [
    "'''References\n",
    "\n",
    "1. Udemy - https://www.udemy.com/python-sfrdan-uzmanlga-programlama-1/\n",
    "2. https://pythonprogramminglanguage.com\n",
    "3. https://www.techopedia.com/definition/28106/polymorphism-general-programming\n",
    "\n",
    "'''"
   ]
  }
 ],
 "metadata": {
  "kernelspec": {
   "display_name": "Python 3",
   "language": "python",
   "name": "python3"
  },
  "language_info": {
   "codemirror_mode": {
    "name": "ipython",
    "version": 3
   },
   "file_extension": ".py",
   "mimetype": "text/x-python",
   "name": "python",
   "nbconvert_exporter": "python",
   "pygments_lexer": "ipython3",
   "version": "3.7.3"
  }
 },
 "nbformat": 4,
 "nbformat_minor": 2
}
